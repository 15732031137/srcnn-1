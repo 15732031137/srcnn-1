{
 "cells": [
  {
   "cell_type": "code",
   "execution_count": 1,
   "metadata": {
    "collapsed": true,
    "deletable": true,
    "editable": true
   },
   "outputs": [],
   "source": [
    "def modcrop(image, scale):\n",
    "    size = np.array(image.shape)\n",
    "    size -= size % scale\n",
    "    image = image[:size[0], :size[1]]\n",
    "    return image"
   ]
  },
  {
   "cell_type": "code",
   "execution_count": 2,
   "metadata": {
    "collapsed": false,
    "deletable": true,
    "editable": true
   },
   "outputs": [
    {
     "name": "stderr",
     "output_type": "stream",
     "text": [
      "Using TensorFlow backend.\n"
     ]
    }
   ],
   "source": [
    "import h5py\n",
    "%matplotlib inline\n",
    "import matplotlib.pyplot as plt\n",
    "import numpy as np\n",
    "np.random.seed(233)\n",
    "from keras.preprocessing.image import img_to_array\n",
    "from keras.preprocessing.image import load_img\n",
    "from keras.preprocessing.image import list_pictures\n",
    "from scipy.misc import imresize\n",
    "\n",
    "\n",
    "# settings\n",
    "folder = '../data/Train'\n",
    "savepath = 'train.h5'\n",
    "size_input = 33\n",
    "size_label = 21\n",
    "scale = 3\n",
    "stride = 14\n",
    "\n",
    "# initialization\n",
    "data = []\n",
    "label = []\n",
    "padding = abs(size_input - size_label) // 2\n",
    "count = 0\n",
    "\n",
    "# generate data\n",
    "filepaths = list_pictures(folder, ext='bmp')\n",
    "\n",
    "for path in filepaths:\n",
    "    image = load_img(path)\n",
    "    image = image.convert('YCbCr')\n",
    "    image = img_to_array(image)[:, :, 1]\n",
    "    \n",
    "    im_label = modcrop(image, scale)\n",
    "    hei, wid = im_label.shape\n",
    "    size = np.array(im_label.shape)\n",
    "    im_input = imresize(imresize(im_label, size // scale, 'bicubic'),\n",
    "                        size, 'bicubic')\n",
    "    \n",
    "    for x in range(0, hei - size_input, stride):\n",
    "        for y in range(0, wid - size_input, stride):\n",
    "            subim_input = im_input[x : x + size_input, y : y + size_input]\n",
    "            subim_label = im_label[x + padding : x + padding + size_label,\n",
    "                                   y + padding : y + padding + size_label]\n",
    "            data += [subim_input]\n",
    "            label += [subim_label]\n",
    "\n",
    "order = np.random.permutation(len(data))\n",
    "data = np.stack(data)[order]\n",
    "label = np.stack(label)[order]\n",
    "\n",
    "with h5py.File(savepath, 'w') as f:\n",
    "    f.create_dataset('dat', data=data)\n",
    "    f.create_dataset('lab', data=label)"
   ]
  },
  {
   "cell_type": "code",
   "execution_count": 3,
   "metadata": {
    "collapsed": false,
    "deletable": true,
    "editable": true
   },
   "outputs": [
    {
     "name": "stdout",
     "output_type": "stream",
     "text": [
      "(21712, 33, 33)\n",
      "(21712, 21, 21)\n"
     ]
    },
    {
     "data": {
      "image/png": "[encoded data removed]",
      "text/plain": [
       "<matplotlib.figure.Figure at 0x10778ea58>"
      ]
     },
     "metadata": {},
     "output_type": "display_data"
    }
   ],
   "source": [
    "print(data.shape)\n",
    "print(label.shape)\n",
    "plt.imshow(data[0, :, :])\n",
    "plt.show()"
   ]
  }
 ],
 "metadata": {
  "anaconda-cloud": {},
  "kernelspec": {
   "display_name": "Python 3",
   "language": "python",
   "name": "python3"
  },
  "language_info": {
   "codemirror_mode": {
    "name": "ipython",
    "version": 3
   },
   "file_extension": ".py",
   "mimetype": "text/x-python",
   "name": "python",
   "nbconvert_exporter": "python",
   "pygments_lexer": "ipython3",
   "version": "3.5.3"
  }
 },
 "nbformat": 4,
 "nbformat_minor": 2
}
